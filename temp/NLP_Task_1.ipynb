{
  "nbformat": 4,
  "nbformat_minor": 0,
  "metadata": {
    "colab": {
      "name": "NLP Task 1.ipynb",
      "provenance": [],
      "collapsed_sections": [],
      "authorship_tag": "ABX9TyPwd1m4Xdni71mVl7jCZxYt",
      "include_colab_link": true
    },
    "kernelspec": {
      "name": "python3",
      "display_name": "Python 3"
    },
    "language_info": {
      "name": "python"
    }
  },
  "cells": [
    {
      "cell_type": "markdown",
      "metadata": {
        "id": "view-in-github",
        "colab_type": "text"
      },
      "source": [
        "<a href=\"https://colab.research.google.com/github/jyotijauhari/NLP/blob/main/temp/NLP_Task_1.ipynb\" target=\"_parent\"><img src=\"https://colab.research.google.com/assets/colab-badge.svg\" alt=\"Open In Colab\"/></a>"
      ]
    },
    {
      "cell_type": "markdown",
      "source": [
        "# **Program 1**"
      ],
      "metadata": {
        "id": "BvEYr77-BJST"
      }
    },
    {
      "cell_type": "markdown",
      "metadata": {
        "id": "zM9B80LB35Vx"
      },
      "source": [
        "Dr Sabir wants to help his student to qualify the aptitude test so in order to help them to pass through the aptitude test Dr Sabir wants to test their skills in English so he decided to assign some sentences and want them to identify the key root words from the sentences so write a program in python that helps Dr Shabir students to get the root word in the sentences use tokenization and stemming"
      ]
    },
    {
      "cell_type": "code",
      "metadata": {
        "id": "QzrDgKfDUVPD"
      },
      "source": [
        "import nltk\n",
        "nltk.download('all')"
      ],
      "execution_count": null,
      "outputs": []
    },
    {
      "cell_type": "code",
      "metadata": {
        "colab": {
          "base_uri": "https://localhost:8080/",
          "height": 0
        },
        "id": "hAFrL2YpOj9j",
        "outputId": "db5ef5f9-3faa-433b-b9a7-de98d4d7aef9"
      },
      "source": [
        "from nltk.tokenize import word_tokenize \n",
        "\n",
        "# adding '.' ',' to stopwords \n",
        "from nltk.corpus import stopwords\n",
        "stop_words = stopwords.words(\"english\")\n",
        "stop_words.append(',')\n",
        "stop_words.append('.')\n",
        "\n",
        "# stemming (for getting root words)\n",
        "# instead of writing PorterStemmer to use PorterStemmer ps will be used .\n",
        "from nltk.stem import PorterStemmer\n",
        "ps = PorterStemmer()\n",
        "\n",
        "# dummy sentence - In grammar, inflection is the modification of a word to express different grammatical categories such as tense, case, voice, aspect, person, number, gender, and mood. An inflection expresses one or more grammatical categories with a prefix, suffix or infix, or another internal modification such as a vowel change\n",
        "ip_sentence = input(\"enter the sentences: \")\n",
        "\n",
        "# word tokenize input sentences\n",
        "NLP_tokens = word_tokenize(ip_sentence)\n",
        "\n",
        "# removing stopwords from sentences so we will have only root words and imp words\n",
        "filtered_sen = []\n",
        "for w in NLP_tokens:\n",
        "  if w not in stop_words:\n",
        "    filtered_sen.append(w)\n",
        "\n",
        "# printing root words\n",
        "for w in filtered_sen:\n",
        "  print(ps.stem(w))\n"
      ],
      "execution_count": 3,
      "outputs": [
        {
          "output_type": "stream",
          "name": "stdout",
          "text": [
            "enter the sentences: Adopting a DevOps culture within your organization will help you to accelerate software development. A recent Puppet survey found that companies with a mature DevOps practice have grown over four times faster than those without it. It is mainly due to their ability to experiment and implement changes quickly and easily by building more stability into each release and deploying new updates and features much more rapidly than before. This increased deployment frequency enables organizations to capitalize on market trends or consumer demand more quickly,.\n",
            "adopt\n",
            "devop\n",
            "cultur\n",
            "within\n",
            "organ\n",
            "help\n",
            "acceler\n",
            "softwar\n",
            "develop\n",
            "A\n",
            "recent\n",
            "puppet\n",
            "survey\n",
            "found\n",
            "compani\n",
            "matur\n",
            "devop\n",
            "practic\n",
            "grown\n",
            "four\n",
            "time\n",
            "faster\n",
            "without\n",
            "It\n",
            "mainli\n",
            "due\n",
            "abil\n",
            "experi\n",
            "implement\n",
            "chang\n",
            "quickli\n",
            "easili\n",
            "build\n",
            "stabil\n",
            "releas\n",
            "deploy\n",
            "new\n",
            "updat\n",
            "featur\n",
            "much\n",
            "rapidli\n",
            "thi\n",
            "increas\n",
            "deploy\n",
            "frequenc\n",
            "enabl\n",
            "organ\n",
            "capit\n",
            "market\n",
            "trend\n",
            "consum\n",
            "demand\n",
            "quickli\n"
          ]
        }
      ]
    },
    {
      "cell_type": "markdown",
      "source": [
        "# Program 2"
      ],
      "metadata": {
        "id": "EDEzrMsIBUfU"
      }
    },
    {
      "cell_type": "markdown",
      "metadata": {
        "id": "gfOB6iJjUlva"
      },
      "source": [
        "Zahra is a technical magazine editor in BIT, wardha one day while editing an article she become enthusiastic about the article but due to limited time should be decided to understand the article by learning about key concept so she wants to separate the words in the sentences to know the theme of the article as the complete article is complex so write a python program that splits the word and display both the word and their frequency in given function using tokenizer function"
      ]
    },
    {
      "cell_type": "code",
      "metadata": {
        "id": "X4cYqEpgV4Rl"
      },
      "source": [
        "# text taken from - https://www.datasciencecentral.com/profiles/blogs/what-is-devops-and-how-can-it-give-a-boost-to-software \n",
        "# can take input from user or can use a text file as well\n",
        "magzine_text = \"\"\"\n",
        "Adopting a DevOps culture within your organization will help you to accelerate software development. A recent Puppet survey found that companies with a mature DevOps practice have grown over four times faster than those without it. It is mainly due to their ability to experiment and implement changes quickly and easily by building more stability into each release and deploying new updates and features much more rapidly than before.\n",
        "This increased deployment frequency enables organizations to capitalize on market trends or consumer demand more quickly, ensuring they remain competitive in an increasingly fast-paced marketplace.  Now, let’s dive into the reasons why DevOps is essential for software development.\n",
        "The conventional way of interacting with customers is changing. Businesses are more and more moving towards adopting customer relationship management (CRM) solutions for better managing and monitoring relations with customers. As a result, they can cater to their clients on a one-to-one basis and provide them with an experience that is personalized and fast. This makes it all that much easier to keep your existing clients happy and find new ones.\n",
        "The most crucial benefit of DevOps software solutions is that it saves money. It is an efficient way to gain project delivery speed while saving time, money, and effort. It allows businesses to be agile so that they can meet their clients’ demands quickly. It also means developers are more likely to produce better-quality code more quickly, which will save you loads of time later on down the line when looking for someone to maintain your product or service.\n",
        "A company that knows how to use DevOps can outdo its competitors easily due to lower costs. Another great advantage of hiring talented staff like skilled professionals instead of generalists is that everyone becomes an expert at something specific; not many companies can boast of having staff experts in marketing, development, management, etc. If they do have staff experts at one thing, then chances are there isn’t anyone who knows how to handle things outside their field of expertise.\n",
        "\"\"\""
      ],
      "execution_count": 4,
      "outputs": []
    },
    {
      "cell_type": "code",
      "metadata": {
        "colab": {
          "base_uri": "https://localhost:8080/",
          "height": 0
        },
        "id": "Q5craifiXdGG",
        "outputId": "7a80d059-a496-4b21-dcb2-5b49a2a71e9f"
      },
      "source": [
        "# word tokenize input texts\n",
        "text = word_tokenize(magzine_text)\n",
        "\n",
        "# removing stopwords from sentences so we will have only root words and imp words\n",
        "magzine_filtered_sen = []\n",
        "for w in text:\n",
        "  if w not in stop_words:\n",
        "    magzine_filtered_sen.append(w)\n",
        "\n",
        "# finding frequency of words\n",
        "from nltk.probability import FreqDist\n",
        "fdist = FreqDist()\n",
        "\n",
        "for words in magzine_filtered_sen:\n",
        "  fdist[words.lower()]+=1\n",
        "fdist"
      ],
      "execution_count": 5,
      "outputs": [
        {
          "output_type": "execute_result",
          "data": {
            "text/plain": [
              "FreqDist({'(': 1,\n",
              "          ')': 1,\n",
              "          ';': 1,\n",
              "          'a': 2,\n",
              "          'ability': 1,\n",
              "          'accelerate': 1,\n",
              "          'adopting': 2,\n",
              "          'advantage': 1,\n",
              "          'agile': 1,\n",
              "          'allows': 1,\n",
              "          'also': 1,\n",
              "          'another': 1,\n",
              "          'anyone': 1,\n",
              "          'as': 1,\n",
              "          'basis': 1,\n",
              "          'becomes': 1,\n",
              "          'benefit': 1,\n",
              "          'better': 1,\n",
              "          'better-quality': 1,\n",
              "          'boast': 1,\n",
              "          'building': 1,\n",
              "          'businesses': 2,\n",
              "          'capitalize': 1,\n",
              "          'cater': 1,\n",
              "          'chances': 1,\n",
              "          'changes': 1,\n",
              "          'changing': 1,\n",
              "          'clients': 3,\n",
              "          'code': 1,\n",
              "          'companies': 2,\n",
              "          'company': 1,\n",
              "          'competitive': 1,\n",
              "          'competitors': 1,\n",
              "          'consumer': 1,\n",
              "          'conventional': 1,\n",
              "          'costs': 1,\n",
              "          'crm': 1,\n",
              "          'crucial': 1,\n",
              "          'culture': 1,\n",
              "          'customer': 1,\n",
              "          'customers': 2,\n",
              "          'delivery': 1,\n",
              "          'demand': 1,\n",
              "          'demands': 1,\n",
              "          'deploying': 1,\n",
              "          'deployment': 1,\n",
              "          'developers': 1,\n",
              "          'development': 3,\n",
              "          'devops': 5,\n",
              "          'dive': 1,\n",
              "          'due': 2,\n",
              "          'easier': 1,\n",
              "          'easily': 2,\n",
              "          'efficient': 1,\n",
              "          'effort': 1,\n",
              "          'enables': 1,\n",
              "          'ensuring': 1,\n",
              "          'essential': 1,\n",
              "          'etc': 1,\n",
              "          'everyone': 1,\n",
              "          'existing': 1,\n",
              "          'experience': 1,\n",
              "          'experiment': 1,\n",
              "          'expert': 1,\n",
              "          'expertise': 1,\n",
              "          'experts': 2,\n",
              "          'fast': 1,\n",
              "          'fast-paced': 1,\n",
              "          'faster': 1,\n",
              "          'features': 1,\n",
              "          'field': 1,\n",
              "          'find': 1,\n",
              "          'found': 1,\n",
              "          'four': 1,\n",
              "          'frequency': 1,\n",
              "          'gain': 1,\n",
              "          'generalists': 1,\n",
              "          'great': 1,\n",
              "          'grown': 1,\n",
              "          'handle': 1,\n",
              "          'happy': 1,\n",
              "          'help': 1,\n",
              "          'hiring': 1,\n",
              "          'if': 1,\n",
              "          'implement': 1,\n",
              "          'increased': 1,\n",
              "          'increasingly': 1,\n",
              "          'instead': 1,\n",
              "          'interacting': 1,\n",
              "          'it': 4,\n",
              "          'keep': 1,\n",
              "          'knows': 2,\n",
              "          'later': 1,\n",
              "          'let': 1,\n",
              "          'like': 1,\n",
              "          'likely': 1,\n",
              "          'line': 1,\n",
              "          'loads': 1,\n",
              "          'looking': 1,\n",
              "          'lower': 1,\n",
              "          'mainly': 1,\n",
              "          'maintain': 1,\n",
              "          'makes': 1,\n",
              "          'management': 2,\n",
              "          'managing': 1,\n",
              "          'many': 1,\n",
              "          'market': 1,\n",
              "          'marketing': 1,\n",
              "          'marketplace': 1,\n",
              "          'mature': 1,\n",
              "          'means': 1,\n",
              "          'meet': 1,\n",
              "          'money': 2,\n",
              "          'monitoring': 1,\n",
              "          'moving': 1,\n",
              "          'much': 2,\n",
              "          'new': 2,\n",
              "          'now': 1,\n",
              "          'one': 1,\n",
              "          'one-to-one': 1,\n",
              "          'ones': 1,\n",
              "          'organization': 1,\n",
              "          'organizations': 1,\n",
              "          'outdo': 1,\n",
              "          'outside': 1,\n",
              "          'personalized': 1,\n",
              "          'practice': 1,\n",
              "          'produce': 1,\n",
              "          'product': 1,\n",
              "          'professionals': 1,\n",
              "          'project': 1,\n",
              "          'provide': 1,\n",
              "          'puppet': 1,\n",
              "          'quickly': 4,\n",
              "          'rapidly': 1,\n",
              "          'reasons': 1,\n",
              "          'recent': 1,\n",
              "          'relations': 1,\n",
              "          'relationship': 1,\n",
              "          'release': 1,\n",
              "          'remain': 1,\n",
              "          'result': 1,\n",
              "          'save': 1,\n",
              "          'saves': 1,\n",
              "          'saving': 1,\n",
              "          'service': 1,\n",
              "          'skilled': 1,\n",
              "          'software': 3,\n",
              "          'solutions': 2,\n",
              "          'someone': 1,\n",
              "          'something': 1,\n",
              "          'specific': 1,\n",
              "          'speed': 1,\n",
              "          'stability': 1,\n",
              "          'staff': 3,\n",
              "          'survey': 1,\n",
              "          'talented': 1,\n",
              "          'the': 2,\n",
              "          'thing': 1,\n",
              "          'things': 1,\n",
              "          'this': 2,\n",
              "          'time': 2,\n",
              "          'times': 1,\n",
              "          'towards': 1,\n",
              "          'trends': 1,\n",
              "          'updates': 1,\n",
              "          'use': 1,\n",
              "          'way': 2,\n",
              "          'within': 1,\n",
              "          'without': 1,\n",
              "          '’': 3})"
            ]
          },
          "metadata": {},
          "execution_count": 5
        }
      ]
    },
    {
      "cell_type": "markdown",
      "source": [
        "# Program 3"
      ],
      "metadata": {
        "id": "FcPiksjQByJJ"
      }
    },
    {
      "cell_type": "markdown",
      "metadata": {
        "id": "sqk6155KZov7"
      },
      "source": [
        "Dr. Sabir is an English teacher in a school he wants to explain the concept of connectors and prepositions and their usage in sentence formation to students so he planned to give different sentences to the students and ask them to remove the connectors and preposition in the sentence write a python program to help students to remove those connectors and prepositions (note - connectors and prepositions represent stop words)"
      ]
    },
    {
      "cell_type": "code",
      "metadata": {
        "id": "irv1qCvOaYBw"
      },
      "source": [
        "# dummy text is used. can also take input from user.\n",
        "task3_text = \"\"\"Avul Pakir Jainulabdeen Abdul Kalam was an Indian aerospace scientist who served as the 11th president of India from 2002 to 2007. He was born and raised in Rameswaram, Tamil Nadu and studied physics and aerospace engineering. He spent the next four decades as a scientist and science administrator, mainly at the Defence Research and Development Organisation (DRDO) and Indian Space Research Organisation (ISRO) and was intimately involved in India's civilian space programme and military missile development efforts.[1] He thus came to be known as the Missile Man of India for his work on the development of ballistic missile and launch vehicle technology.He also played a pivotal organisational, technical, and political role in India's Pokhran-II nuclear tests in 1998, the first since the original nuclear test by India in 1974.Kalam was elected as the 11th president of India in 2002 with the support of both the ruling Bharatiya Janata Party and the then-opposition Indian National Congress. Widely referred to as the \"People's President\",[6] he returned to his civilian life of education, writing and public service after a single term. He was a recipient of several prestigious awards, including the Bharat Ratna, India's highest civilian honour.\n",
        "\"\"\""
      ],
      "execution_count": 6,
      "outputs": []
    },
    {
      "cell_type": "code",
      "metadata": {
        "colab": {
          "base_uri": "https://localhost:8080/",
          "height": 0
        },
        "id": "WyylDGuzaazI",
        "outputId": "989571fd-46b6-483b-fd8d-5d78f47f2a91"
      },
      "source": [
        "# word tokenize input texts\n",
        "word_tokenize_text = word_tokenize(task3_text)\n",
        "\n",
        "# removing the connectors and preposition\n",
        "task3_filtered_sen = []\n",
        "for w in word_tokenize_text :\n",
        "  if w not in stop_words:\n",
        "    task3_filtered_sen.append(w)\n",
        "\n",
        "print(task3_filtered_sen)\n"
      ],
      "execution_count": 7,
      "outputs": [
        {
          "output_type": "stream",
          "name": "stdout",
          "text": [
            "['Avul', 'Pakir', 'Jainulabdeen', 'Abdul', 'Kalam', 'Indian', 'aerospace', 'scientist', 'served', '11th', 'president', 'India', '2002', '2007', 'He', 'born', 'raised', 'Rameswaram', 'Tamil', 'Nadu', 'studied', 'physics', 'aerospace', 'engineering', 'He', 'spent', 'next', 'four', 'decades', 'scientist', 'science', 'administrator', 'mainly', 'Defence', 'Research', 'Development', 'Organisation', '(', 'DRDO', ')', 'Indian', 'Space', 'Research', 'Organisation', '(', 'ISRO', ')', 'intimately', 'involved', 'India', \"'s\", 'civilian', 'space', 'programme', 'military', 'missile', 'development', 'efforts', '[', '1', ']', 'He', 'thus', 'came', 'known', 'Missile', 'Man', 'India', 'work', 'development', 'ballistic', 'missile', 'launch', 'vehicle', 'technology.He', 'also', 'played', 'pivotal', 'organisational', 'technical', 'political', 'role', 'India', \"'s\", 'Pokhran-II', 'nuclear', 'tests', '1998', 'first', 'since', 'original', 'nuclear', 'test', 'India', '1974.Kalam', 'elected', '11th', 'president', 'India', '2002', 'support', 'ruling', 'Bharatiya', 'Janata', 'Party', 'then-opposition', 'Indian', 'National', 'Congress', 'Widely', 'referred', '``', 'People', \"'s\", 'President', \"''\", '[', '6', ']', 'returned', 'civilian', 'life', 'education', 'writing', 'public', 'service', 'single', 'term', 'He', 'recipient', 'several', 'prestigious', 'awards', 'including', 'Bharat', 'Ratna', 'India', \"'s\", 'highest', 'civilian', 'honour']\n"
          ]
        }
      ]
    },
    {
      "cell_type": "markdown",
      "source": [
        "# Program 4"
      ],
      "metadata": {
        "id": "NWTlOGAaBt9j"
      }
    },
    {
      "cell_type": "markdown",
      "metadata": {
        "id": "OT2zET8lcjua"
      },
      "source": [
        "Dr Sabir ask his student to read a paragraph and generate the tokens from the paragraph using the sentence tokenizer he also asked them to find the parts of speech for each word in the individual tokens that has been generated. write a python program to help students to identify the part of speech of individual tokens."
      ]
    },
    {
      "cell_type": "code",
      "metadata": {
        "id": "K1O3m6xVcznb"
      },
      "source": [
        "# dummy text is used. can also take input from user.\n",
        "task4_text = \"\"\"\n",
        "Avul Pakir Jainulabdeen Abdul Kalam was an Indian aerospace scientist who served as the 11th president of India from 2002 to 2007. \n",
        "He was born and raised in Rameswaram, Tamil Nadu and studied physics and aerospace engineering. \n",
        "He spent the next four decades as a scientist and science administrator, mainly at the Defence Research and Development Organisation and Indian Space Research Organisation.\n",
        "He also played a pivotal organisational, technical, and political role in India's Pokhran-II nuclear tests in 1998, the first since the original nuclear test by India in 1974.\n",
        "Kalam was elected as the 11th president of India in 2002 with the support of both the ruling Bharatiya Janata Party and the then-opposition Indian National Congress. \n",
        "\"\"\""
      ],
      "execution_count": 8,
      "outputs": []
    },
    {
      "cell_type": "code",
      "metadata": {
        "colab": {
          "base_uri": "https://localhost:8080/",
          "height": 0
        },
        "id": "nwKWYWbmc6cH",
        "outputId": "1ef076da-1dde-45fc-893c-5837c7182bd6"
      },
      "source": [
        "from nltk.tokenize import word_tokenize, sent_tokenize\n",
        "task4_sentences = sent_tokenize(task4_text)\n",
        "task4_sentences"
      ],
      "execution_count": 9,
      "outputs": [
        {
          "output_type": "execute_result",
          "data": {
            "text/plain": [
              "['\\nAvul Pakir Jainulabdeen Abdul Kalam was an Indian aerospace scientist who served as the 11th president of India from 2002 to 2007.',\n",
              " 'He was born and raised in Rameswaram, Tamil Nadu and studied physics and aerospace engineering.',\n",
              " 'He spent the next four decades as a scientist and science administrator, mainly at the Defence Research and Development Organisation and Indian Space Research Organisation.',\n",
              " \"He also played a pivotal organisational, technical, and political role in India's Pokhran-II nuclear tests in 1998, the first since the original nuclear test by India in 1974.\",\n",
              " 'Kalam was elected as the 11th president of India in 2002 with the support of both the ruling Bharatiya Janata Party and the then-opposition Indian National Congress.']"
            ]
          },
          "metadata": {},
          "execution_count": 9
        }
      ]
    },
    {
      "cell_type": "code",
      "metadata": {
        "colab": {
          "base_uri": "https://localhost:8080/",
          "height": 0
        },
        "id": "QqIHL4qkdlXG",
        "outputId": "af4e60b4-7dbb-41f2-fa6a-f73974e1e7ff"
      },
      "source": [
        "# finding the parts of speech for each word in the individual tokens (pos tagging)\n",
        "def process_content():\n",
        "  try:\n",
        "    for sentence in task4_sentences:\n",
        "      t4_words = nltk.word_tokenize(sentence)\n",
        "      tagged = nltk.pos_tag(t4_words)\n",
        "      print(tagged)\n",
        "\n",
        "  except Exception as e:\n",
        "    print(str(e))\n",
        "\n",
        "process_content()"
      ],
      "execution_count": 11,
      "outputs": [
        {
          "output_type": "stream",
          "name": "stdout",
          "text": [
            "[('Avul', 'NNP'), ('Pakir', 'NNP'), ('Jainulabdeen', 'NNP'), ('Abdul', 'NNP'), ('Kalam', 'NNP'), ('was', 'VBD'), ('an', 'DT'), ('Indian', 'JJ'), ('aerospace', 'NN'), ('scientist', 'NN'), ('who', 'WP'), ('served', 'VBD'), ('as', 'IN'), ('the', 'DT'), ('11th', 'CD'), ('president', 'NN'), ('of', 'IN'), ('India', 'NNP'), ('from', 'IN'), ('2002', 'CD'), ('to', 'TO'), ('2007', 'CD'), ('.', '.')]\n",
            "[('He', 'PRP'), ('was', 'VBD'), ('born', 'VBN'), ('and', 'CC'), ('raised', 'VBN'), ('in', 'IN'), ('Rameswaram', 'NNP'), (',', ','), ('Tamil', 'NNP'), ('Nadu', 'NNP'), ('and', 'CC'), ('studied', 'VBN'), ('physics', 'NNS'), ('and', 'CC'), ('aerospace', 'NN'), ('engineering', 'NN'), ('.', '.')]\n",
            "[('He', 'PRP'), ('spent', 'VBD'), ('the', 'DT'), ('next', 'JJ'), ('four', 'CD'), ('decades', 'NNS'), ('as', 'IN'), ('a', 'DT'), ('scientist', 'NN'), ('and', 'CC'), ('science', 'NN'), ('administrator', 'NN'), (',', ','), ('mainly', 'RB'), ('at', 'IN'), ('the', 'DT'), ('Defence', 'NNP'), ('Research', 'NNP'), ('and', 'CC'), ('Development', 'NNP'), ('Organisation', 'NNP'), ('and', 'CC'), ('Indian', 'JJ'), ('Space', 'NNP'), ('Research', 'NNP'), ('Organisation', 'NNP'), ('.', '.')]\n",
            "[('He', 'PRP'), ('also', 'RB'), ('played', 'VBD'), ('a', 'DT'), ('pivotal', 'JJ'), ('organisational', 'JJ'), (',', ','), ('technical', 'JJ'), (',', ','), ('and', 'CC'), ('political', 'JJ'), ('role', 'NN'), ('in', 'IN'), ('India', 'NNP'), (\"'s\", 'POS'), ('Pokhran-II', 'JJ'), ('nuclear', 'JJ'), ('tests', 'NNS'), ('in', 'IN'), ('1998', 'CD'), (',', ','), ('the', 'DT'), ('first', 'JJ'), ('since', 'IN'), ('the', 'DT'), ('original', 'JJ'), ('nuclear', 'JJ'), ('test', 'NN'), ('by', 'IN'), ('India', 'NNP'), ('in', 'IN'), ('1974', 'CD'), ('.', '.')]\n",
            "[('Kalam', 'NNP'), ('was', 'VBD'), ('elected', 'VBN'), ('as', 'IN'), ('the', 'DT'), ('11th', 'CD'), ('president', 'NN'), ('of', 'IN'), ('India', 'NNP'), ('in', 'IN'), ('2002', 'CD'), ('with', 'IN'), ('the', 'DT'), ('support', 'NN'), ('of', 'IN'), ('both', 'DT'), ('the', 'DT'), ('ruling', 'NN'), ('Bharatiya', 'NNP'), ('Janata', 'NNP'), ('Party', 'NNP'), ('and', 'CC'), ('the', 'DT'), ('then-opposition', 'NN'), ('Indian', 'NNP'), ('National', 'NNP'), ('Congress', 'NNP'), ('.', '.')]\n"
          ]
        }
      ]
    }
  ]
}